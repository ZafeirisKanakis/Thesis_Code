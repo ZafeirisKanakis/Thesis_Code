{
  "nbformat": 4,
  "nbformat_minor": 0,
  "metadata": {
    "colab": {
      "provenance": []
    },
    "kernelspec": {
      "name": "python3",
      "display_name": "Python 3"
    },
    "language_info": {
      "name": "python"
    }
  },
  "cells": [
    {
      "cell_type": "code",
      "source": [
        "!pip install rasterio"
      ],
      "metadata": {
        "colab": {
          "base_uri": "https://localhost:8080/"
        },
        "id": "_RNXlk4iJXD6",
        "outputId": "a5d77bb1-b71e-400b-ef60-63d09a3adfa0"
      },
      "execution_count": null,
      "outputs": [
        {
          "output_type": "stream",
          "name": "stdout",
          "text": [
            "Collecting rasterio\n",
            "  Downloading rasterio-1.4.3-cp311-cp311-manylinux_2_17_x86_64.manylinux2014_x86_64.whl.metadata (9.1 kB)\n",
            "Collecting affine (from rasterio)\n",
            "  Downloading affine-2.4.0-py3-none-any.whl.metadata (4.0 kB)\n",
            "Requirement already satisfied: attrs in /usr/local/lib/python3.11/dist-packages (from rasterio) (25.3.0)\n",
            "Requirement already satisfied: certifi in /usr/local/lib/python3.11/dist-packages (from rasterio) (2025.4.26)\n",
            "Requirement already satisfied: click>=4.0 in /usr/local/lib/python3.11/dist-packages (from rasterio) (8.2.1)\n",
            "Collecting cligj>=0.5 (from rasterio)\n",
            "  Downloading cligj-0.7.2-py3-none-any.whl.metadata (5.0 kB)\n",
            "Requirement already satisfied: numpy>=1.24 in /usr/local/lib/python3.11/dist-packages (from rasterio) (2.0.2)\n",
            "Collecting click-plugins (from rasterio)\n",
            "  Downloading click_plugins-1.1.1-py2.py3-none-any.whl.metadata (6.4 kB)\n",
            "Requirement already satisfied: pyparsing in /usr/local/lib/python3.11/dist-packages (from rasterio) (3.2.3)\n",
            "Downloading rasterio-1.4.3-cp311-cp311-manylinux_2_17_x86_64.manylinux2014_x86_64.whl (22.2 MB)\n",
            "\u001b[2K   \u001b[90m━━━━━━━━━━━━━━━━━━━━━━━━━━━━━━━━━━━━━━━━\u001b[0m \u001b[32m22.2/22.2 MB\u001b[0m \u001b[31m32.8 MB/s\u001b[0m eta \u001b[36m0:00:00\u001b[0m\n",
            "\u001b[?25hDownloading cligj-0.7.2-py3-none-any.whl (7.1 kB)\n",
            "Downloading affine-2.4.0-py3-none-any.whl (15 kB)\n",
            "Downloading click_plugins-1.1.1-py2.py3-none-any.whl (7.5 kB)\n",
            "Installing collected packages: cligj, click-plugins, affine, rasterio\n",
            "Successfully installed affine-2.4.0 click-plugins-1.1.1 cligj-0.7.2 rasterio-1.4.3\n"
          ]
        }
      ]
    },
    {
      "cell_type": "code",
      "source": [
        "from google.colab import drive\n",
        "import os\n",
        "import shutil\n",
        "\n",
        "mountpoint = '/content/drive'\n",
        "if os.path.exists(mountpoint):\n",
        "    print(f\"Removing existing mountpoint directory: {mountpoint}\")\n",
        "    shutil.rmtree(mountpoint)\n",
        "\n",
        "drive.mount(mountpoint)"
      ],
      "metadata": {
        "colab": {
          "base_uri": "https://localhost:8080/"
        },
        "id": "YFxaL2rEJI59",
        "outputId": "c6c9969e-65ee-4a0e-ca02-402bbe5f60a7"
      },
      "execution_count": null,
      "outputs": [
        {
          "output_type": "stream",
          "name": "stdout",
          "text": [
            "Removing existing mountpoint directory: /content/drive\n",
            "Mounted at /content/drive\n"
          ]
        }
      ]
    },
    {
      "cell_type": "markdown",
      "source": [
        "# Testing for one tif to png"
      ],
      "metadata": {
        "id": "v_2wdJ7wa4fA"
      }
    },
    {
      "cell_type": "code",
      "execution_count": null,
      "metadata": {
        "colab": {
          "base_uri": "https://localhost:8080/"
        },
        "id": "DJMAQwgWJB3C",
        "outputId": "2e30d11f-c49e-4769-9d66-be1ec97b69a4"
      },
      "outputs": [
        {
          "output_type": "stream",
          "name": "stdout",
          "text": [
            "✅ PNG image saved!\n"
          ]
        }
      ],
      "source": [
        "import rasterio\n",
        "import numpy as np\n",
        "import matplotlib.pyplot as plt\n",
        "from PIL import Image\n",
        "\n",
        "tif_path = \"/content/drive/MyDrive/xview2_parts/geotiffs/hold/images/guatemala-volcano_00000004_post_disaster.tif\"\n",
        "png_output_path = \"/content/drive/MyDrive/xview2_parts/output_image.png\"\n",
        "\n",
        "with rasterio.open(tif_path) as src:\n",
        "    b = src.read(1)\n",
        "    g = src.read(2)\n",
        "    r = src.read(3)\n",
        "\n",
        "rgb = np.stack((r, g, b), axis=-1)\n",
        "\n",
        "def normalize(channel):\n",
        "    channel = channel.astype(np.float32)\n",
        "    channel = 255 * (channel - channel.min()) / (channel.max() - channel.min())\n",
        "    return channel.astype(np.uint8)\n",
        "\n",
        "rgb_norm = np.stack([normalize(rgb[..., i]) for i in range(3)], axis=-1)\n",
        "\n",
        "Image.fromarray(rgb_norm).save(png_output_path)\n",
        "\n",
        "print(\"✅ PNG image saved!\")"
      ]
    },
    {
      "cell_type": "markdown",
      "source": [
        "# All images for the training from tif to colorfull png"
      ],
      "metadata": {
        "id": "hADCpa3oawGx"
      }
    },
    {
      "cell_type": "code",
      "source": [
        "import os\n",
        "import rasterio\n",
        "import numpy as np\n",
        "from PIL import Image\n",
        "\n",
        "tif_folder = \"/content/drive/MyDrive/xview2/geotiffs/test/forAnomalyMaps/\"\n",
        "png_output_folder = \"/content/drive/MyDrive/xview2/geotiffs/test/newToMove/\"\n",
        "os.makedirs(png_output_folder, exist_ok=True)\n",
        "\n",
        "def normalize(channel):\n",
        "    channel = channel.astype(np.float32)\n",
        "    channel = 255 * (channel - channel.min()) / (channel.max() - channel.min() + 1e-6)\n",
        "    return channel.astype(np.uint8)\n",
        "\n",
        "for filename in os.listdir(tif_folder):\n",
        "    if filename.endswith(\".tif\") and \"pre\" in filename.lower():\n",
        "        tif_path = os.path.join(tif_folder, filename)\n",
        "        png_filename = os.path.splitext(filename)[0] + \".png\"\n",
        "        png_path = os.path.join(png_output_folder, png_filename)\n",
        "\n",
        "        try:\n",
        "            with rasterio.open(tif_path) as src:\n",
        "                if src.count >= 3:\n",
        "                    r = src.read(3)\n",
        "                    g = src.read(2)\n",
        "                    b = src.read(1)\n",
        "\n",
        "                    rgb = np.stack((r, g, b), axis=-1)\n",
        "                    rgb_norm = np.stack([normalize(rgb[..., i]) for i in range(3)], axis=-1)\n",
        "\n",
        "                    Image.fromarray(rgb_norm).save(png_path)\n",
        "                    print(f\"✅ Saved: {png_filename}\")\n",
        "\n",
        "                    # Delete original .tif\n",
        "                    os.remove(tif_path)\n",
        "                    print(f\"🗑️ Deleted: {filename}\")\n",
        "                else:\n",
        "                    print(f\"⚠️ Skipped (not enough bands): {filename}\")\n",
        "        except Exception as e:\n",
        "            print(f\"❌ Error processing {filename}: {e}\")\n"
      ],
      "metadata": {
        "id": "5Y90cNqLJwaQ"
      },
      "execution_count": null,
      "outputs": []
    },
    {
      "cell_type": "markdown",
      "source": [
        "# 150 images to be made for test"
      ],
      "metadata": {
        "id": "56LZDZWOamc9"
      }
    },
    {
      "cell_type": "code",
      "source": [
        "import os\n",
        "import rasterio\n",
        "import numpy as np\n",
        "from PIL import Image\n",
        "\n",
        "# Paths\n",
        "tif_folder = \"/content/drive/MyDrive/xview2/geotiffs/test/forAnomalyMaps/\"\n",
        "png_output_folder = \"/content/drive/MyDrive/xview2/geotiffs/test/newToMove/\"\n",
        "os.makedirs(png_output_folder, exist_ok=True)\n",
        "\n",
        "def normalize(channel):\n",
        "    channel = channel.astype(np.float32)\n",
        "    channel = 255 * (channel - channel.min()) / (channel.max() - channel.min() + 1e-6)\n",
        "    return channel.astype(np.uint8)\n",
        "\n",
        "post_tifs = [f for f in os.listdir(tif_folder) if f.endswith(\".tif\") and \"post\" in f.lower()]\n",
        "post_tifs = sorted(post_tifs)[:100]\n",
        "\n",
        "for filename in post_tifs:\n",
        "    tif_path = os.path.join(tif_folder, filename)\n",
        "    png_filename = os.path.splitext(filename)[0] + \".png\"\n",
        "    png_path = os.path.join(png_output_folder, png_filename)\n",
        "\n",
        "    try:\n",
        "        with rasterio.open(tif_path) as src:\n",
        "            if src.count >= 3:\n",
        "                r = src.read(3)\n",
        "                g = src.read(2)\n",
        "                b = src.read(1)\n",
        "\n",
        "                rgb = np.stack((r, g, b), axis=-1)\n",
        "                rgb_norm = np.stack([normalize(rgb[..., i]) for i in range(3)], axis=-1)\n",
        "\n",
        "                Image.fromarray(rgb_norm).save(png_path)\n",
        "                print(f\"✅ Saved: {png_filename}\")\n",
        "\n",
        "                os.remove(tif_path)\n",
        "                print(f\"🗑️ Deleted: {filename}\")\n",
        "            else:\n",
        "                print(f\"⚠️ Skipped (not enough bands): {filename}\")\n",
        "    except Exception as e:\n",
        "        print(f\"❌ Error processing {filename}: {e}\")\n"
      ],
      "metadata": {
        "colab": {
          "base_uri": "https://localhost:8080/"
        },
        "id": "Ob6D75DAMFAo",
        "outputId": "3a4405a1-a9b0-4a26-e3c8-b6c2b5228cd7"
      },
      "execution_count": null,
      "outputs": [
        {
          "output_type": "stream",
          "name": "stdout",
          "text": [
            "✅ Saved: midwest-flooding_00000292_post_disaster.png\n",
            "🗑️ Deleted: midwest-flooding_00000292_post_disaster.tif\n",
            "✅ Saved: midwest-flooding_00000298_post_disaster.png\n",
            "🗑️ Deleted: midwest-flooding_00000298_post_disaster.tif\n",
            "✅ Saved: palu-tsunami_00000041_post_disaster.png\n",
            "🗑️ Deleted: palu-tsunami_00000041_post_disaster.tif\n",
            "✅ Saved: palu-tsunami_00000081_post_disaster.png\n",
            "🗑️ Deleted: palu-tsunami_00000081_post_disaster.tif\n",
            "✅ Saved: santa-rosa-wildfire_00000087_post_disaster.png\n",
            "🗑️ Deleted: santa-rosa-wildfire_00000087_post_disaster.tif\n",
            "✅ Saved: santa-rosa-wildfire_00000099_post_disaster.png\n",
            "🗑️ Deleted: santa-rosa-wildfire_00000099_post_disaster.tif\n"
          ]
        }
      ]
    },
    {
      "cell_type": "markdown",
      "source": [
        "# To see how many images are in the path"
      ],
      "metadata": {
        "id": "ZjkMydrdag3k"
      }
    },
    {
      "cell_type": "code",
      "source": [
        "png_output_folder = \"/content/drive/MyDrive/xview2_parts/train/good/\"\n",
        "\n",
        "total_files = len(os.listdir(png_output_folder))\n",
        "print(f\"📁 Total files in folder: {total_files}\")"
      ],
      "metadata": {
        "colab": {
          "base_uri": "https://localhost:8080/"
        },
        "id": "rIYMUPzEYrKU",
        "outputId": "95467fdc-ee48-49b7-dbb3-921f10270c3d"
      },
      "execution_count": null,
      "outputs": [
        {
          "output_type": "stream",
          "name": "stdout",
          "text": [
            "📁 Total files in folder: 933\n"
          ]
        }
      ]
    },
    {
      "cell_type": "markdown",
      "source": [
        "# Moves 150 pngs to the good for test from good from train"
      ],
      "metadata": {
        "id": "bFbMcaxGaYG-"
      }
    },
    {
      "cell_type": "code",
      "source": [
        "import os\n",
        "import shutil\n",
        "\n",
        "source_folder = \"/content/drive/MyDrive/xview2_parts/train/good/\"\n",
        "destination_folder = \"/content/drive/MyDrive/xview2_parts/test/good/\"\n",
        "\n",
        "# Make sure the destination folder exists\n",
        "os.makedirs(destination_folder, exist_ok=True)\n",
        "\n",
        "# Get list of all PNG files\n",
        "png_files = [f for f in os.listdir(source_folder) if f.endswith(\".png\")]\n",
        "\n",
        "# Sort and select the first 150\n",
        "png_files_to_move = sorted(png_files)[:150]\n",
        "\n",
        "# Move the files\n",
        "for filename in png_files_to_move:\n",
        "    src_path = os.path.join(source_folder, filename)\n",
        "    dst_path = os.path.join(destination_folder, filename)\n",
        "    shutil.move(src_path, dst_path)\n",
        "    print(f\"✅ Moved: {filename}\")\n",
        "\n",
        "print(f\"\\n✅ Done! {len(png_files_to_move)} images moved.\")\n"
      ],
      "metadata": {
        "colab": {
          "base_uri": "https://localhost:8080/"
        },
        "id": "877QIUaiYrmu",
        "outputId": "5136c18b-2098-4aeb-ea99-1fdf1c35c881"
      },
      "execution_count": null,
      "outputs": [
        {
          "output_type": "stream",
          "name": "stdout",
          "text": [
            "✅ Moved: guatemala-volcano_00000004_pre_disaster.png\n",
            "✅ Moved: guatemala-volcano_00000012_pre_disaster.png\n",
            "✅ Moved: guatemala-volcano_00000014_pre_disaster.png\n",
            "✅ Moved: guatemala-volcano_00000020_pre_disaster.png\n",
            "✅ Moved: guatemala-volcano_00000022_pre_disaster.png\n",
            "✅ Moved: hurricane-florence_00000006_pre_disaster.png\n",
            "✅ Moved: hurricane-florence_00000009_pre_disaster.png\n",
            "✅ Moved: hurricane-florence_00000010_pre_disaster.png\n",
            "✅ Moved: hurricane-florence_00000011_pre_disaster.png\n",
            "✅ Moved: hurricane-florence_00000014_pre_disaster.png\n",
            "✅ Moved: hurricane-florence_00000017_pre_disaster.png\n",
            "✅ Moved: hurricane-florence_00000021_pre_disaster.png\n",
            "✅ Moved: hurricane-florence_00000025_pre_disaster.png\n",
            "✅ Moved: hurricane-florence_00000033_pre_disaster.png\n",
            "✅ Moved: hurricane-florence_00000034_pre_disaster.png\n",
            "✅ Moved: hurricane-florence_00000035_pre_disaster.png\n",
            "✅ Moved: hurricane-florence_00000038_pre_disaster.png\n",
            "✅ Moved: hurricane-florence_00000040_pre_disaster.png\n",
            "✅ Moved: hurricane-florence_00000041_pre_disaster.png\n",
            "✅ Moved: hurricane-florence_00000047_pre_disaster.png\n",
            "✅ Moved: hurricane-florence_00000050_pre_disaster.png\n",
            "✅ Moved: hurricane-florence_00000052_pre_disaster.png\n",
            "✅ Moved: hurricane-florence_00000068_pre_disaster.png\n",
            "✅ Moved: hurricane-florence_00000071_pre_disaster.png\n",
            "✅ Moved: hurricane-florence_00000074_pre_disaster.png\n",
            "✅ Moved: hurricane-florence_00000081_pre_disaster.png\n",
            "✅ Moved: hurricane-florence_00000089_pre_disaster.png\n",
            "✅ Moved: hurricane-florence_00000090_pre_disaster.png\n",
            "✅ Moved: hurricane-florence_00000097_pre_disaster.png\n",
            "✅ Moved: hurricane-florence_00000098_pre_disaster.png\n",
            "✅ Moved: hurricane-florence_00000105_pre_disaster.png\n",
            "✅ Moved: hurricane-florence_00000107_pre_disaster.png\n",
            "✅ Moved: hurricane-florence_00000108_pre_disaster.png\n",
            "✅ Moved: hurricane-florence_00000109_pre_disaster.png\n",
            "✅ Moved: hurricane-florence_00000121_pre_disaster.png\n",
            "✅ Moved: hurricane-florence_00000124_pre_disaster.png\n",
            "✅ Moved: hurricane-florence_00000130_pre_disaster.png\n",
            "✅ Moved: hurricane-florence_00000134_pre_disaster.png\n",
            "✅ Moved: hurricane-florence_00000137_pre_disaster.png\n",
            "✅ Moved: hurricane-florence_00000154_pre_disaster.png\n",
            "✅ Moved: hurricane-florence_00000155_pre_disaster.png\n",
            "✅ Moved: hurricane-florence_00000157_pre_disaster.png\n",
            "✅ Moved: hurricane-florence_00000161_pre_disaster.png\n",
            "✅ Moved: hurricane-florence_00000162_pre_disaster.png\n",
            "✅ Moved: hurricane-florence_00000170_pre_disaster.png\n",
            "✅ Moved: hurricane-florence_00000175_pre_disaster.png\n",
            "✅ Moved: hurricane-florence_00000198_pre_disaster.png\n",
            "✅ Moved: hurricane-florence_00000201_pre_disaster.png\n",
            "✅ Moved: hurricane-florence_00000202_pre_disaster.png\n",
            "✅ Moved: hurricane-florence_00000205_pre_disaster.png\n",
            "✅ Moved: hurricane-florence_00000206_pre_disaster.png\n",
            "✅ Moved: hurricane-florence_00000207_pre_disaster.png\n",
            "✅ Moved: hurricane-florence_00000209_pre_disaster.png\n",
            "✅ Moved: hurricane-florence_00000213_pre_disaster.png\n",
            "✅ Moved: hurricane-florence_00000214_pre_disaster.png\n",
            "✅ Moved: hurricane-florence_00000220_pre_disaster.png\n",
            "✅ Moved: hurricane-florence_00000223_pre_disaster.png\n",
            "✅ Moved: hurricane-florence_00000227_pre_disaster.png\n",
            "✅ Moved: hurricane-florence_00000230_pre_disaster.png\n",
            "✅ Moved: hurricane-florence_00000234_pre_disaster.png\n",
            "✅ Moved: hurricane-florence_00000236_pre_disaster.png\n",
            "✅ Moved: hurricane-florence_00000238_pre_disaster.png\n",
            "✅ Moved: hurricane-florence_00000239_pre_disaster.png\n",
            "✅ Moved: hurricane-florence_00000241_pre_disaster.png\n",
            "✅ Moved: hurricane-florence_00000243_pre_disaster.png\n",
            "✅ Moved: hurricane-florence_00000246_pre_disaster.png\n",
            "✅ Moved: hurricane-florence_00000248_pre_disaster.png\n",
            "✅ Moved: hurricane-florence_00000250_pre_disaster.png\n",
            "✅ Moved: hurricane-florence_00000254_pre_disaster.png\n",
            "✅ Moved: hurricane-florence_00000257_pre_disaster.png\n",
            "✅ Moved: hurricane-florence_00000258_pre_disaster.png\n",
            "✅ Moved: hurricane-florence_00000261_pre_disaster.png\n",
            "✅ Moved: hurricane-florence_00000270_pre_disaster.png\n",
            "✅ Moved: hurricane-florence_00000271_pre_disaster.png\n",
            "✅ Moved: hurricane-florence_00000280_pre_disaster.png\n",
            "✅ Moved: hurricane-florence_00000281_pre_disaster.png\n",
            "✅ Moved: hurricane-florence_00000283_pre_disaster.png\n",
            "✅ Moved: hurricane-florence_00000287_pre_disaster.png\n",
            "✅ Moved: hurricane-florence_00000291_pre_disaster.png\n",
            "✅ Moved: hurricane-florence_00000295_pre_disaster.png\n",
            "✅ Moved: hurricane-florence_00000299_pre_disaster.png\n",
            "✅ Moved: hurricane-florence_00000305_pre_disaster.png\n",
            "✅ Moved: hurricane-florence_00000311_pre_disaster.png\n",
            "✅ Moved: hurricane-florence_00000322_pre_disaster.png\n",
            "✅ Moved: hurricane-florence_00000327_pre_disaster.png\n",
            "✅ Moved: hurricane-florence_00000339_pre_disaster.png\n",
            "✅ Moved: hurricane-florence_00000348_pre_disaster.png\n",
            "✅ Moved: hurricane-florence_00000351_pre_disaster.png\n",
            "✅ Moved: hurricane-florence_00000352_pre_disaster.png\n",
            "✅ Moved: hurricane-florence_00000354_pre_disaster.png\n",
            "✅ Moved: hurricane-florence_00000358_pre_disaster.png\n",
            "✅ Moved: hurricane-florence_00000367_pre_disaster.png\n",
            "✅ Moved: hurricane-florence_00000373_pre_disaster.png\n",
            "✅ Moved: hurricane-florence_00000383_pre_disaster.png\n",
            "✅ Moved: hurricane-florence_00000385_pre_disaster.png\n",
            "✅ Moved: hurricane-florence_00000391_pre_disaster.png\n",
            "✅ Moved: hurricane-florence_00000402_pre_disaster.png\n",
            "✅ Moved: hurricane-florence_00000412_pre_disaster.png\n",
            "✅ Moved: hurricane-florence_00000413_pre_disaster.png\n",
            "✅ Moved: hurricane-florence_00000422_pre_disaster.png\n",
            "✅ Moved: hurricane-florence_00000429_pre_disaster.png\n",
            "✅ Moved: hurricane-florence_00000430_pre_disaster.png\n",
            "✅ Moved: hurricane-florence_00000432_pre_disaster.png\n",
            "✅ Moved: hurricane-florence_00000439_pre_disaster.png\n",
            "✅ Moved: hurricane-florence_00000440_pre_disaster.png\n",
            "✅ Moved: hurricane-florence_00000447_pre_disaster.png\n",
            "✅ Moved: hurricane-florence_00000458_pre_disaster.png\n",
            "✅ Moved: hurricane-florence_00000463_pre_disaster.png\n",
            "✅ Moved: hurricane-florence_00000465_pre_disaster.png\n",
            "✅ Moved: hurricane-florence_00000479_pre_disaster.png\n",
            "✅ Moved: hurricane-florence_00000487_pre_disaster.png\n",
            "✅ Moved: hurricane-florence_00000489_pre_disaster.png\n",
            "✅ Moved: hurricane-florence_00000495_pre_disaster.png\n",
            "✅ Moved: hurricane-florence_00000499_pre_disaster.png\n",
            "✅ Moved: hurricane-florence_00000502_pre_disaster.png\n",
            "✅ Moved: hurricane-florence_00000505_pre_disaster.png\n",
            "✅ Moved: hurricane-florence_00000511_pre_disaster.png\n",
            "✅ Moved: hurricane-florence_00000518_pre_disaster.png\n",
            "✅ Moved: hurricane-florence_00000520_pre_disaster.png\n",
            "✅ Moved: hurricane-florence_00000521_pre_disaster.png\n",
            "✅ Moved: hurricane-florence_00000524_pre_disaster.png\n",
            "✅ Moved: hurricane-florence_00000532_pre_disaster.png\n",
            "✅ Moved: hurricane-florence_00000534_pre_disaster.png\n",
            "✅ Moved: hurricane-florence_00000539_pre_disaster.png\n",
            "✅ Moved: hurricane-harvey_00000004_pre_disaster.png\n",
            "✅ Moved: hurricane-harvey_00000005_pre_disaster.png\n",
            "✅ Moved: hurricane-harvey_00000013_pre_disaster.png\n",
            "✅ Moved: hurricane-harvey_00000014_pre_disaster.png\n",
            "✅ Moved: hurricane-harvey_00000021_pre_disaster.png\n",
            "✅ Moved: hurricane-harvey_00000027_pre_disaster.png\n",
            "✅ Moved: hurricane-harvey_00000031_pre_disaster.png\n",
            "✅ Moved: hurricane-harvey_00000032_pre_disaster.png\n",
            "✅ Moved: hurricane-harvey_00000034_pre_disaster.png\n",
            "✅ Moved: hurricane-harvey_00000038_pre_disaster.png\n",
            "✅ Moved: hurricane-harvey_00000050_pre_disaster.png\n",
            "✅ Moved: hurricane-harvey_00000065_pre_disaster.png\n",
            "✅ Moved: hurricane-harvey_00000067_pre_disaster.png\n",
            "✅ Moved: hurricane-harvey_00000074_pre_disaster.png\n",
            "✅ Moved: hurricane-harvey_00000083_pre_disaster.png\n",
            "✅ Moved: hurricane-harvey_00000086_pre_disaster.png\n",
            "✅ Moved: hurricane-harvey_00000087_pre_disaster.png\n",
            "✅ Moved: hurricane-harvey_00000095_pre_disaster.png\n",
            "✅ Moved: hurricane-harvey_00000102_pre_disaster.png\n",
            "✅ Moved: hurricane-harvey_00000106_pre_disaster.png\n",
            "✅ Moved: hurricane-harvey_00000110_pre_disaster.png\n",
            "✅ Moved: hurricane-harvey_00000117_pre_disaster.png\n",
            "✅ Moved: hurricane-harvey_00000121_pre_disaster.png\n",
            "✅ Moved: hurricane-harvey_00000124_pre_disaster.png\n",
            "✅ Moved: hurricane-harvey_00000125_pre_disaster.png\n",
            "✅ Moved: hurricane-harvey_00000140_pre_disaster.png\n",
            "\n",
            "✅ Done! 150 images moved.\n"
          ]
        }
      ]
    }
  ]
}